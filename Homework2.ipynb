{
 "cells": [
  {
   "cell_type": "code",
   "execution_count": 1,
   "id": "33e1f2cc-57b8-4c39-96f1-b31ee8b8dce5",
   "metadata": {},
   "outputs": [],
   "source": [
    "## PyBank assignment, import panda and read csv file\n",
    "\n",
    "import pandas as pd\n",
    "%matplotlib inline"
   ]
  },
  {
   "cell_type": "code",
   "execution_count": 85,
   "id": "4d8ede0f-d068-4d27-b01c-288519e3b436",
   "metadata": {},
   "outputs": [
    {
     "data": {
      "text/html": [
       "<div>\n",
       "<style scoped>\n",
       "    .dataframe tbody tr th:only-of-type {\n",
       "        vertical-align: middle;\n",
       "    }\n",
       "\n",
       "    .dataframe tbody tr th {\n",
       "        vertical-align: top;\n",
       "    }\n",
       "\n",
       "    .dataframe thead th {\n",
       "        text-align: right;\n",
       "    }\n",
       "</style>\n",
       "<table border=\"1\" class=\"dataframe\">\n",
       "  <thead>\n",
       "    <tr style=\"text-align: right;\">\n",
       "      <th></th>\n",
       "      <th>Date</th>\n",
       "      <th>Profit/Losses</th>\n",
       "    </tr>\n",
       "  </thead>\n",
       "  <tbody>\n",
       "    <tr>\n",
       "      <th>0</th>\n",
       "      <td>Jan-10</td>\n",
       "      <td>867884</td>\n",
       "    </tr>\n",
       "    <tr>\n",
       "      <th>1</th>\n",
       "      <td>Feb-10</td>\n",
       "      <td>984655</td>\n",
       "    </tr>\n",
       "    <tr>\n",
       "      <th>2</th>\n",
       "      <td>Mar-10</td>\n",
       "      <td>322013</td>\n",
       "    </tr>\n",
       "    <tr>\n",
       "      <th>3</th>\n",
       "      <td>Apr-10</td>\n",
       "      <td>-69417</td>\n",
       "    </tr>\n",
       "    <tr>\n",
       "      <th>4</th>\n",
       "      <td>May-10</td>\n",
       "      <td>310503</td>\n",
       "    </tr>\n",
       "  </tbody>\n",
       "</table>\n",
       "</div>"
      ],
      "text/plain": [
       "     Date  Profit/Losses\n",
       "0  Jan-10         867884\n",
       "1  Feb-10         984655\n",
       "2  Mar-10         322013\n",
       "3  Apr-10         -69417\n",
       "4  May-10         310503"
      ]
     },
     "execution_count": 85,
     "metadata": {},
     "output_type": "execute_result"
    }
   ],
   "source": [
    "df = pd.read_csv('budget_data.csv')\n",
    "df.head()"
   ]
  },
  {
   "cell_type": "code",
   "execution_count": 84,
   "id": "88bae34a-6792-4dbf-9cfb-9c1f1175916a",
   "metadata": {},
   "outputs": [
    {
     "data": {
      "text/html": [
       "<div>\n",
       "<style scoped>\n",
       "    .dataframe tbody tr th:only-of-type {\n",
       "        vertical-align: middle;\n",
       "    }\n",
       "\n",
       "    .dataframe tbody tr th {\n",
       "        vertical-align: top;\n",
       "    }\n",
       "\n",
       "    .dataframe thead th {\n",
       "        text-align: right;\n",
       "    }\n",
       "</style>\n",
       "<table border=\"1\" class=\"dataframe\">\n",
       "  <thead>\n",
       "    <tr style=\"text-align: right;\">\n",
       "      <th></th>\n",
       "      <th>Date</th>\n",
       "      <th>Profit/Losses</th>\n",
       "      <th>difference</th>\n",
       "    </tr>\n",
       "  </thead>\n",
       "  <tbody>\n",
       "    <tr>\n",
       "      <th>0</th>\n",
       "      <td>Jan-10</td>\n",
       "      <td>867884</td>\n",
       "      <td>NaN</td>\n",
       "    </tr>\n",
       "    <tr>\n",
       "      <th>1</th>\n",
       "      <td>Feb-10</td>\n",
       "      <td>984655</td>\n",
       "      <td>116771.0</td>\n",
       "    </tr>\n",
       "    <tr>\n",
       "      <th>2</th>\n",
       "      <td>Mar-10</td>\n",
       "      <td>322013</td>\n",
       "      <td>-662642.0</td>\n",
       "    </tr>\n",
       "    <tr>\n",
       "      <th>3</th>\n",
       "      <td>Apr-10</td>\n",
       "      <td>-69417</td>\n",
       "      <td>-391430.0</td>\n",
       "    </tr>\n",
       "    <tr>\n",
       "      <th>4</th>\n",
       "      <td>May-10</td>\n",
       "      <td>310503</td>\n",
       "      <td>379920.0</td>\n",
       "    </tr>\n",
       "  </tbody>\n",
       "</table>\n",
       "</div>"
      ],
      "text/plain": [
       "     Date  Profit/Losses  difference\n",
       "0  Jan-10         867884         NaN\n",
       "1  Feb-10         984655    116771.0\n",
       "2  Mar-10         322013   -662642.0\n",
       "3  Apr-10         -69417   -391430.0\n",
       "4  May-10         310503    379920.0"
      ]
     },
     "execution_count": 84,
     "metadata": {},
     "output_type": "execute_result"
    }
   ],
   "source": [
    "df.head()"
   ]
  },
  {
   "cell_type": "code",
   "execution_count": 86,
   "id": "bd13b1d7-c3f0-4bee-b4ed-5e5dfcf0c09b",
   "metadata": {},
   "outputs": [
    {
     "name": "stdout",
     "output_type": "stream",
     "text": [
      "      Date  Profit/Losses\n",
      "0   Jan-10         867884\n",
      "1   Feb-10         984655\n",
      "2   Mar-10         322013\n",
      "3   Apr-10         -69417\n",
      "4   May-10         310503\n",
      "..     ...            ...\n",
      "81  Oct-16         102685\n",
      "82  Nov-16         795914\n",
      "83  Dec-16          60988\n",
      "84  Jan-17         138230\n",
      "85  Feb-17         671099\n",
      "\n",
      "[86 rows x 2 columns]\n"
     ]
    }
   ],
   "source": [
    "## Print a summary of top 5 and bottom 5 rows\n",
    "\n",
    "print (df)"
   ]
  },
  {
   "cell_type": "code",
   "execution_count": 114,
   "id": "acedc3a5-0f7d-47e3-a839-34817cf9dcc9",
   "metadata": {},
   "outputs": [
    {
     "name": "stdout",
     "output_type": "stream",
     "text": [
      "Total:$ 38382578\n"
     ]
    }
   ],
   "source": [
    "## Calculate the net total amount of Profit/Losses over the entire period\n",
    "\n",
    "amount = df['Profit/Losses'].sum()\n",
    "print (\"Total:$\", amount)"
   ]
  },
  {
   "cell_type": "code",
   "execution_count": 17,
   "id": "3d0dcdaf-453f-4250-adfa-0f4598807f2c",
   "metadata": {},
   "outputs": [
    {
     "name": "stdout",
     "output_type": "stream",
     "text": [
      "86\n"
     ]
    }
   ],
   "source": [
    "## Calculate the total number of months included in the dataset\n",
    "\n",
    "index = df.index\n",
    "number_of_rows = len(index)\n",
    "print(number_of_rows)"
   ]
  },
  {
   "cell_type": "code",
   "execution_count": 12,
   "id": "02972025-911f-4024-8222-26906eb097ae",
   "metadata": {},
   "outputs": [
    {
     "name": "stdout",
     "output_type": "stream",
     "text": [
      "Total Months: 86\n"
     ]
    }
   ],
   "source": [
    "## Print the total number of months included in the dataset\n",
    "\n",
    "print (\"Total Months:\", number_of_rows)"
   ]
  },
  {
   "cell_type": "code",
   "execution_count": 87,
   "id": "de405130-85de-45f5-8fb8-11765d248df1",
   "metadata": {},
   "outputs": [
    {
     "data": {
      "text/html": [
       "<div>\n",
       "<style scoped>\n",
       "    .dataframe tbody tr th:only-of-type {\n",
       "        vertical-align: middle;\n",
       "    }\n",
       "\n",
       "    .dataframe tbody tr th {\n",
       "        vertical-align: top;\n",
       "    }\n",
       "\n",
       "    .dataframe thead th {\n",
       "        text-align: right;\n",
       "    }\n",
       "</style>\n",
       "<table border=\"1\" class=\"dataframe\">\n",
       "  <thead>\n",
       "    <tr style=\"text-align: right;\">\n",
       "      <th></th>\n",
       "      <th>Date</th>\n",
       "      <th>Profit/Losses</th>\n",
       "      <th>difference</th>\n",
       "    </tr>\n",
       "  </thead>\n",
       "  <tbody>\n",
       "    <tr>\n",
       "      <th>0</th>\n",
       "      <td>Jan-10</td>\n",
       "      <td>867884</td>\n",
       "      <td>NaN</td>\n",
       "    </tr>\n",
       "    <tr>\n",
       "      <th>1</th>\n",
       "      <td>Feb-10</td>\n",
       "      <td>984655</td>\n",
       "      <td>116771.0</td>\n",
       "    </tr>\n",
       "    <tr>\n",
       "      <th>2</th>\n",
       "      <td>Mar-10</td>\n",
       "      <td>322013</td>\n",
       "      <td>-662642.0</td>\n",
       "    </tr>\n",
       "    <tr>\n",
       "      <th>3</th>\n",
       "      <td>Apr-10</td>\n",
       "      <td>-69417</td>\n",
       "      <td>-391430.0</td>\n",
       "    </tr>\n",
       "    <tr>\n",
       "      <th>4</th>\n",
       "      <td>May-10</td>\n",
       "      <td>310503</td>\n",
       "      <td>379920.0</td>\n",
       "    </tr>\n",
       "  </tbody>\n",
       "</table>\n",
       "</div>"
      ],
      "text/plain": [
       "     Date  Profit/Losses  difference\n",
       "0  Jan-10         867884         NaN\n",
       "1  Feb-10         984655    116771.0\n",
       "2  Mar-10         322013   -662642.0\n",
       "3  Apr-10         -69417   -391430.0\n",
       "4  May-10         310503    379920.0"
      ]
     },
     "execution_count": 87,
     "metadata": {},
     "output_type": "execute_result"
    }
   ],
   "source": [
    "## Calculate the average of the changes in Profit/Losses over the entire period.\n",
    "\n",
    "## create a new column called difference to calculate the change\n",
    "\n",
    "df['difference'] = df['Profit/Losses'].diff(1)\n",
    "df.head()"
   ]
  },
  {
   "cell_type": "code",
   "execution_count": 107,
   "id": "4fe7e59e-5070-4f03-8aff-f39991097eef",
   "metadata": {},
   "outputs": [
    {
     "name": "stdout",
     "output_type": "stream",
     "text": [
      "Avg Change:$ -2315.1176470588234\n"
     ]
    }
   ],
   "source": [
    "## Calculate and Print average change\n",
    "\n",
    "monthly_change = df['difference'].sum()\n",
    "denominator = (number_of_rows) - 1\n",
    "average_change = (monthly_change) / (denominator)\n",
    "print (\"Avg Change:$\", average_change)"
   ]
  },
  {
   "cell_type": "code",
   "execution_count": 108,
   "id": "788bb2db-b3c2-4744-a201-bb7bc2330380",
   "metadata": {},
   "outputs": [
    {
     "name": "stdout",
     "output_type": "stream",
     "text": [
      "-2315.12\n"
     ]
    }
   ],
   "source": [
    "## Rounding up average change to two decimal places\n",
    "\n",
    "avg_chg = round(average_change,2)\n",
    "print(avg_chg)"
   ]
  },
  {
   "cell_type": "code",
   "execution_count": 115,
   "id": "8a1997c2-5a63-4630-b33a-1b16610982c0",
   "metadata": {},
   "outputs": [
    {
     "name": "stdout",
     "output_type": "stream",
     "text": [
      "Average Change:$ -2315.12\n"
     ]
    }
   ],
   "source": [
    "## Printing Average Change to two decimal places\n",
    "\n",
    "print (\"Average Change:$\", avg_chg)"
   ]
  },
  {
   "cell_type": "code",
   "execution_count": 112,
   "id": "424cce2a-49f6-4ee5-b344-1515182900d2",
   "metadata": {},
   "outputs": [
    {
     "name": "stdout",
     "output_type": "stream",
     "text": [
      "1926159.0\n"
     ]
    }
   ],
   "source": [
    "## Print maximum change - greatest increase - in the difference column\n",
    "\n",
    "print (df.difference.max())"
   ]
  },
  {
   "cell_type": "code",
   "execution_count": 95,
   "id": "23448473-2c5d-47ec-9214-4d2abdaa0d34",
   "metadata": {},
   "outputs": [
    {
     "name": "stdout",
     "output_type": "stream",
     "text": [
      "-2196167.0\n"
     ]
    }
   ],
   "source": [
    "## Print minimum change - greatest decrease - in the difference column\n",
    "\n",
    "print (df.difference.min())"
   ]
  },
  {
   "cell_type": "code",
   "execution_count": null,
   "id": "777d320b-be7e-4247-b450-870f7cf3056b",
   "metadata": {},
   "outputs": [],
   "source": []
  },
  {
   "cell_type": "code",
   "execution_count": null,
   "id": "a5f4b398-53c0-44d4-bd2d-42ae60e34ef7",
   "metadata": {},
   "outputs": [],
   "source": []
  },
  {
   "cell_type": "code",
   "execution_count": 74,
   "id": "82b95f7f-f9a5-4f1d-99f6-7cc9257a9fe9",
   "metadata": {},
   "outputs": [
    {
     "data": {
      "text/html": [
       "<div>\n",
       "<style scoped>\n",
       "    .dataframe tbody tr th:only-of-type {\n",
       "        vertical-align: middle;\n",
       "    }\n",
       "\n",
       "    .dataframe tbody tr th {\n",
       "        vertical-align: top;\n",
       "    }\n",
       "\n",
       "    .dataframe thead th {\n",
       "        text-align: right;\n",
       "    }\n",
       "</style>\n",
       "<table border=\"1\" class=\"dataframe\">\n",
       "  <thead>\n",
       "    <tr style=\"text-align: right;\">\n",
       "      <th></th>\n",
       "      <th>Date</th>\n",
       "      <th>Profit/Losses</th>\n",
       "      <th>difference</th>\n",
       "    </tr>\n",
       "  </thead>\n",
       "  <tbody>\n",
       "    <tr>\n",
       "      <th>44</th>\n",
       "      <td>Sep-13</td>\n",
       "      <td>-1196225</td>\n",
       "      <td>-2196167.0</td>\n",
       "    </tr>\n",
       "    <tr>\n",
       "      <th>78</th>\n",
       "      <td>Jul-16</td>\n",
       "      <td>-1163797</td>\n",
       "      <td>-1876758.0</td>\n",
       "    </tr>\n",
       "    <tr>\n",
       "      <th>73</th>\n",
       "      <td>Feb-16</td>\n",
       "      <td>-1100387</td>\n",
       "      <td>-1750387.0</td>\n",
       "    </tr>\n",
       "    <tr>\n",
       "      <th>31</th>\n",
       "      <td>Aug-12</td>\n",
       "      <td>-1022534</td>\n",
       "      <td>-1529236.0</td>\n",
       "    </tr>\n",
       "    <tr>\n",
       "      <th>63</th>\n",
       "      <td>Apr-15</td>\n",
       "      <td>-524626</td>\n",
       "      <td>-1212159.0</td>\n",
       "    </tr>\n",
       "    <tr>\n",
       "      <th>...</th>\n",
       "      <td>...</td>\n",
       "      <td>...</td>\n",
       "      <td>...</td>\n",
       "    </tr>\n",
       "    <tr>\n",
       "      <th>32</th>\n",
       "      <td>Sep-12</td>\n",
       "      <td>475062</td>\n",
       "      <td>1497596.0</td>\n",
       "    </tr>\n",
       "    <tr>\n",
       "      <th>79</th>\n",
       "      <td>Aug-16</td>\n",
       "      <td>569899</td>\n",
       "      <td>1733696.0</td>\n",
       "    </tr>\n",
       "    <tr>\n",
       "      <th>47</th>\n",
       "      <td>Dec-13</td>\n",
       "      <td>1150461</td>\n",
       "      <td>1838447.0</td>\n",
       "    </tr>\n",
       "    <tr>\n",
       "      <th>25</th>\n",
       "      <td>Feb-12</td>\n",
       "      <td>1170593</td>\n",
       "      <td>1926159.0</td>\n",
       "    </tr>\n",
       "    <tr>\n",
       "      <th>0</th>\n",
       "      <td>Jan-10</td>\n",
       "      <td>867884</td>\n",
       "      <td>NaN</td>\n",
       "    </tr>\n",
       "  </tbody>\n",
       "</table>\n",
       "<p>86 rows × 3 columns</p>\n",
       "</div>"
      ],
      "text/plain": [
       "      Date  Profit/Losses  difference\n",
       "44  Sep-13       -1196225  -2196167.0\n",
       "78  Jul-16       -1163797  -1876758.0\n",
       "73  Feb-16       -1100387  -1750387.0\n",
       "31  Aug-12       -1022534  -1529236.0\n",
       "63  Apr-15        -524626  -1212159.0\n",
       "..     ...            ...         ...\n",
       "32  Sep-12         475062   1497596.0\n",
       "79  Aug-16         569899   1733696.0\n",
       "47  Dec-13        1150461   1838447.0\n",
       "25  Feb-12        1170593   1926159.0\n",
       "0   Jan-10         867884         NaN\n",
       "\n",
       "[86 rows x 3 columns]"
      ]
     },
     "execution_count": 74,
     "metadata": {},
     "output_type": "execute_result"
    }
   ],
   "source": [
    "## Sort the difference column in ascending order from lowest to highest\n",
    "\n",
    "df.sort_values(\"difference\")"
   ]
  },
  {
   "cell_type": "code",
   "execution_count": 116,
   "id": "fa8b6d0e-876a-4273-8a4d-3b7a6c460e39",
   "metadata": {},
   "outputs": [
    {
     "name": "stdout",
     "output_type": "stream",
     "text": [
      "Greatest Decrease in Profits: Sep-13 ($ -2196167.0 )\n"
     ]
    }
   ],
   "source": [
    "## The sorted values in ascending order - from lowest to highest - in chart above shows the row position in the first column\n",
    "## The Greatest Decrease (min) is the first row which is row position 44, as per the first column\n",
    "## Print the greatest decrease in losses (date and amount) over the entire period.\n",
    "\n",
    "print (\"Greatest Decrease in Profits:\", df.iloc[44, 0], \"($\", df.iloc[44, 2], \")\")"
   ]
  },
  {
   "cell_type": "code",
   "execution_count": 117,
   "id": "59f18773-2b11-44ce-a0cf-bc0bbb1713a3",
   "metadata": {},
   "outputs": [
    {
     "name": "stdout",
     "output_type": "stream",
     "text": [
      "Greatest Increase in Profits: Feb-12 ($ 1926159.0 )\n"
     ]
    }
   ],
   "source": [
    "## The Greatest Increase (max) is the second last row which is row position 25, as per the first column\n",
    "## Print the greatest increase in profits (date and amount) over the entire period.\n",
    "\n",
    "print (\"Greatest Increase in Profits:\", df.iloc[25, 0],\"($\", df.iloc[25, 2], \")\")"
   ]
  },
  {
   "cell_type": "code",
   "execution_count": null,
   "id": "64873ba5-5a66-44f0-ba59-d3a8e2e26d84",
   "metadata": {},
   "outputs": [],
   "source": []
  },
  {
   "cell_type": "code",
   "execution_count": null,
   "id": "e3e5990b-7d61-4f79-b0a2-e6db7a3bbdf5",
   "metadata": {},
   "outputs": [],
   "source": []
  }
 ],
 "metadata": {
  "kernelspec": {
   "display_name": "Python 3",
   "language": "python",
   "name": "python3"
  },
  "language_info": {
   "codemirror_mode": {
    "name": "ipython",
    "version": 3
   },
   "file_extension": ".py",
   "mimetype": "text/x-python",
   "name": "python",
   "nbconvert_exporter": "python",
   "pygments_lexer": "ipython3",
   "version": "3.8.8"
  }
 },
 "nbformat": 4,
 "nbformat_minor": 5
}
